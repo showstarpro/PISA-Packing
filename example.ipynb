{
 "cells": [
  {
   "cell_type": "code",
   "execution_count": 14,
   "metadata": {},
   "outputs": [],
   "source": [
    "from solve import Program\n",
    "program = Program()\n",
    "program.get_dependency()\n",
    "blocks = program.blocks"
   ]
  },
  {
   "cell_type": "code",
   "execution_count": 15,
   "metadata": {},
   "outputs": [],
   "source": [
    "import random\n",
    "N = 607\n",
    "# M = 1204\n",
    "M = 620 # debug\n",
    "set_I = range(0, N) # 基本快\n",
    "set_J = range(0, M) # 流水线\n",
    "# 已知变量\n",
    "t = {i: blocks[i].resources['tcam'] for i in set_I}\n",
    "h = {i: blocks[i].resources['hash'] for i in set_I}\n",
    "a = {i: blocks[i].resources['alu'] for i in set_I}\n",
    "q = {i: blocks[i].resources['qualify'] for i in set_I}\n",
    "# 次序关系\n",
    "lt_table = {}\n",
    "for i in set_I:\n",
    "    for j in range(0,i):\n",
    "        if j in blocks[i].le:\n",
    "            lt_table[(i,j)] = 2 \n",
    "        if j in blocks[i].lt:\n",
    "            lt_table[(i,j)] = 1  \n",
    "        else:\n",
    "            lt_table[(i,j)] = 0\n",
    "# 流水线限制\n",
    "T = {j: 1 for j in set_J}\n",
    "H = {j: 2 for j in set_J}\n",
    "A = {j: 56 for j in set_J}\n",
    "Q = {j: 64 for j in set_J}\n"
   ]
  },
  {
   "cell_type": "code",
   "execution_count": 16,
   "metadata": {},
   "outputs": [],
   "source": [
    "# 引入求解器\n",
    "import docplex.mp.model as cpx\n",
    "opt_model = cpx.Model(name=\"PISA\")"
   ]
  },
  {
   "cell_type": "code",
   "execution_count": 17,
   "metadata": {},
   "outputs": [],
   "source": [
    "# if x is Binary\n",
    "x = {(i,j): opt_model.binary_var(name=f\"x_{i}_{j}\") for i in set_I for j in set_J}"
   ]
  },
  {
   "cell_type": "code",
   "execution_count": 18,
   "metadata": {},
   "outputs": [],
   "source": [
    "block_con = { \n",
    "    i : \n",
    "    opt_model.add_constraint(ct= opt_model.sum(x[i,j] for j in set_J) ==1 , ctname=f\"tcam_con_{i}\") \n",
    "    for i in set_I\n",
    "}"
   ]
  },
  {
   "cell_type": "code",
   "execution_count": 19,
   "metadata": {},
   "outputs": [],
   "source": [
    "tcam_con = { \n",
    "    j : \n",
    "    opt_model.add_constraint(ct= opt_model.sum(t[i] * x[i,j] for i in set_I) <= T[j], ctname=f\"tcam_con_{j}\") \n",
    "    for j in set_J\n",
    "}\n",
    "alu_con = { \n",
    "    j : \n",
    "    opt_model.add_constraint(ct= opt_model.sum(a[i] * x[i,j] for i in set_I) <= A[j], ctname=f\"alu_con_{j}\") \n",
    "    for j in set_J\n",
    "}\n",
    "hash_con = { \n",
    "    j : \n",
    "    opt_model.add_constraint(ct= opt_model.sum(h[i] * x[i,j] for i in set_I) <= H[j], ctname=f\"hash_con_{j}\") \n",
    "    for j in set_J\n",
    "}\n",
    "qualify_con = {\n",
    "    j : \n",
    "    opt_model.add_constraint(ct= opt_model.sum(q[i] * x[i,j] for i in set_I) <= Q[j], ctname=f\"hash_con_{j}\") \n",
    "    for j in set_J   \n",
    "}"
   ]
  },
  {
   "cell_type": "code",
   "execution_count": 20,
   "metadata": {},
   "outputs": [],
   "source": [
    "even_con = opt_model.add_constraint(ct= opt_model.sum(t[i] * x[i,j] for i in set_I for j in set_J if j%2==0 ) <= 5 , ctname=f\"even_con\") "
   ]
  },
  {
   "cell_type": "code",
   "execution_count": 21,
   "metadata": {},
   "outputs": [],
   "source": [
    "# TODO: check fold\n",
    "tmp = []\n",
    "for a in range(0,15):\n",
    "    b = a+ 16\n",
    "    if b > M:\n",
    "        break\n",
    "    else:\n",
    "        tmp.append(opt_model.add_constraint(ct= opt_model.sum(t[i] * x[i,b] for i in set_I) <= 1 , ctname=f\"tcam_fold_con_{i,b}\"))\n",
    "        tmp.append(opt_model.add_constraint(ct= opt_model.sum(h[i] * x[i,b] for i in set_I) <= 3 , ctname=f\"tcam_fold_con_{i,b}\"))"
   ]
  },
  {
   "cell_type": "code",
   "execution_count": 22,
   "metadata": {},
   "outputs": [],
   "source": [
    "# 次序关系\n",
    "# r  = { i: opt_model.integer_var(lb=0, ub= M-1,name=f\"r_{i}\") for i in set_I} \n",
    "# r = {i: \n",
    "#     for j in set_J\n",
    "# }"
   ]
  },
  {
   "cell_type": "code",
   "execution_count": 23,
   "metadata": {},
   "outputs": [],
   "source": [
    "# control dependency:\n",
    "\n",
    "# ra < rb\n",
    "for a in set_I:\n",
    "    for b in blocks[a].lt: # ra < rb\n",
    "        opt_model.add_constraint(ct = opt_model.sum( x[a,j]* 2**(j) for j in set_J) <= opt_model.sum( x[b,j] * 2**(j) for j in set_J) -1 )\n",
    "    for b in blocks[a].le:\n",
    "        opt_model.add_constraint(ct = opt_model.sum( x[a,j]* 2**(j) for j in set_J) <= opt_model.sum( x[b,j] * 2**(j) for j in set_J)  )"
   ]
  },
  {
   "cell_type": "code",
   "execution_count": 24,
   "metadata": {},
   "outputs": [],
   "source": [
    "objective = (opt_model.sum(opt_model.max(x[i,j] for i in set_I) for j in set_J))\n",
    "opt_model.minimize(objective)"
   ]
  },
  {
   "cell_type": "code",
   "execution_count": 25,
   "metadata": {},
   "outputs": [],
   "source": [
    "# solving with local cplex\n",
    "opt_model.solve()"
   ]
  },
  {
   "cell_type": "code",
   "execution_count": null,
   "metadata": {},
   "outputs": [],
   "source": [
    "import pandas as pd\n",
    "\n",
    "opt_df = pd.DataFrame.from_dict(x, orient=\"index\", \n",
    "                                columns = [\"variable_object\"])\n",
    "opt_df.index = pd.MultiIndex.from_tuples(opt_df.index, names=[\"column_i\", \"column_j\"])\n",
    "opt_df.reset_index(inplace=True)\n",
    "\n",
    "# CPLEX\n",
    "opt_df[\"solution_value\"] = opt_df[\"variable_object\"].apply(lambda item: item.solution_value)\n",
    "\n",
    "opt_df.drop(columns=[\"variable_object\"], inplace=True)\n",
    "opt_df.to_csv(\"./optimization_solution.csv\")"
   ]
  }
 ],
 "metadata": {
  "kernelspec": {
   "display_name": "Python 3.8.11 ('nlplab')",
   "language": "python",
   "name": "python3"
  },
  "language_info": {
   "codemirror_mode": {
    "name": "ipython",
    "version": 3
   },
   "file_extension": ".py",
   "mimetype": "text/x-python",
   "name": "python",
   "nbconvert_exporter": "python",
   "pygments_lexer": "ipython3",
   "version": "3.8.11"
  },
  "orig_nbformat": 4,
  "vscode": {
   "interpreter": {
    "hash": "41ee1aa438ed1469aa2e94ea4a398afbb7a940faca55b6acac8591abe0535b43"
   }
  }
 },
 "nbformat": 4,
 "nbformat_minor": 2
}
